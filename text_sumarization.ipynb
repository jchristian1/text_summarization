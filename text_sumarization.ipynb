{
  "nbformat": 4,
  "nbformat_minor": 0,
  "metadata": {
    "colab": {
      "name": "text_sumarization.ipynb",
      "provenance": [],
      "collapsed_sections": []
    },
    "kernelspec": {
      "name": "python3",
      "display_name": "Python 3"
    },
    "language_info": {
      "name": "python"
    }
  },
  "cells": [
    {
      "cell_type": "markdown",
      "source": [
        "Text Summarization"
      ],
      "metadata": {
        "id": "qpvpgE0366se"
      }
    },
    {
      "cell_type": "code",
      "source": [
        "text = \"\"\"Maria Sharapova has basically no friends as tennis players on the WTA Tour. The Russian player has no problems in openly speaking about it and in a recent interview she said: 'I don't really hide any feelings too much.\n",
        "\n",
        "I think everyone knows this is my job here. When I'm on the courts or when I'm on the court playing, I'm a competitor and I want to beat every single person whether they're in the locker room or across the net.\n",
        "\n",
        "So I'm not the one to strike up a conversation about the weather and know that in the next few minutes I have to go and try to win a tennis match. I'm a pretty competitive girl. I say my hellos, but I'm not sending any players flowers as well.\n",
        "\n",
        "Uhm, I'm not really friendly or close to many players. I have not a lot of friends away from the courts.' When she said she is not really close to a lot of players, is that something strategic that she is doing? Is it different on the men's tour than the women's tour? 'No, not at all.\n",
        "\n",
        "I think just because you're in the same sport doesn't mean that you have to be friends with everyone just because you're categorized, you're a tennis player, so you're going to get along with tennis players.\n",
        "\n",
        "I think every person has different interests. I have friends that have completely different jobs and interests, and I've met them in very different parts of my life. I think everyone just thinks because we're tennis players we should be the greatest of friends.\n",
        "\n",
        "But ultimately tennis is just a very small part of what we do. There are so many other things that we're interested in, that we do.\"\"\""
      ],
      "metadata": {
        "id": "oIMRvI4l7pQZ"
      },
      "execution_count": 1,
      "outputs": []
    },
    {
      "cell_type": "markdown",
      "source": [
        "1) Importing the libraries and dataset"
      ],
      "metadata": {
        "id": "DGC3Lb5d66vs"
      }
    },
    {
      "cell_type": "code",
      "source": [
        "import spacy\n",
        "from spacy.lang.en.stop_words import STOP_WORDS\n",
        "from string import punctuation"
      ],
      "metadata": {
        "id": "8xrRxSOW7p1O"
      },
      "execution_count": 2,
      "outputs": []
    },
    {
      "cell_type": "code",
      "source": [
        "nlp = spacy.load('en_core_web_sm')"
      ],
      "metadata": {
        "id": "4rEM8N_k9Tr8"
      },
      "execution_count": 3,
      "outputs": []
    },
    {
      "cell_type": "code",
      "source": [
        "doc = nlp(text)"
      ],
      "metadata": {
        "id": "o1XDY1W19Tv7"
      },
      "execution_count": 4,
      "outputs": []
    },
    {
      "cell_type": "code",
      "source": [
        "tokens = [token.text for token in doc]\n",
        "print(tokens)"
      ],
      "metadata": {
        "colab": {
          "base_uri": "https://localhost:8080/"
        },
        "id": "9WZbS-JU9TxR",
        "outputId": "6801f894-5393-471a-b185-3bd943c19eda"
      },
      "execution_count": 5,
      "outputs": [
        {
          "output_type": "stream",
          "name": "stdout",
          "text": [
            "['Maria', 'Sharapova', 'has', 'basically', 'no', 'friends', 'as', 'tennis', 'players', 'on', 'the', 'WTA', 'Tour', '.', 'The', 'Russian', 'player', 'has', 'no', 'problems', 'in', 'openly', 'speaking', 'about', 'it', 'and', 'in', 'a', 'recent', 'interview', 'she', 'said', ':', \"'\", 'I', 'do', \"n't\", 'really', 'hide', 'any', 'feelings', 'too', 'much', '.', '\\n\\n', 'I', 'think', 'everyone', 'knows', 'this', 'is', 'my', 'job', 'here', '.', 'When', 'I', \"'m\", 'on', 'the', 'courts', 'or', 'when', 'I', \"'m\", 'on', 'the', 'court', 'playing', ',', 'I', \"'m\", 'a', 'competitor', 'and', 'I', 'want', 'to', 'beat', 'every', 'single', 'person', 'whether', 'they', \"'re\", 'in', 'the', 'locker', 'room', 'or', 'across', 'the', 'net', '.', '\\n\\n', 'So', 'I', \"'m\", 'not', 'the', 'one', 'to', 'strike', 'up', 'a', 'conversation', 'about', 'the', 'weather', 'and', 'know', 'that', 'in', 'the', 'next', 'few', 'minutes', 'I', 'have', 'to', 'go', 'and', 'try', 'to', 'win', 'a', 'tennis', 'match', '.', 'I', \"'m\", 'a', 'pretty', 'competitive', 'girl', '.', 'I', 'say', 'my', 'hellos', ',', 'but', 'I', \"'m\", 'not', 'sending', 'any', 'players', 'flowers', 'as', 'well', '.', '\\n\\n', 'Uhm', ',', 'I', \"'m\", 'not', 'really', 'friendly', 'or', 'close', 'to', 'many', 'players', '.', 'I', 'have', 'not', 'a', 'lot', 'of', 'friends', 'away', 'from', 'the', 'courts', '.', \"'\", 'When', 'she', 'said', 'she', 'is', 'not', 'really', 'close', 'to', 'a', 'lot', 'of', 'players', ',', 'is', 'that', 'something', 'strategic', 'that', 'she', 'is', 'doing', '?', 'Is', 'it', 'different', 'on', 'the', 'men', \"'s\", 'tour', 'than', 'the', 'women', \"'s\", 'tour', '?', \"'\", 'No', ',', 'not', 'at', 'all', '.', '\\n\\n', 'I', 'think', 'just', 'because', 'you', \"'re\", 'in', 'the', 'same', 'sport', 'does', \"n't\", 'mean', 'that', 'you', 'have', 'to', 'be', 'friends', 'with', 'everyone', 'just', 'because', 'you', \"'re\", 'categorized', ',', 'you', \"'re\", 'a', 'tennis', 'player', ',', 'so', 'you', \"'re\", 'going', 'to', 'get', 'along', 'with', 'tennis', 'players', '.', '\\n\\n', 'I', 'think', 'every', 'person', 'has', 'different', 'interests', '.', 'I', 'have', 'friends', 'that', 'have', 'completely', 'different', 'jobs', 'and', 'interests', ',', 'and', 'I', \"'ve\", 'met', 'them', 'in', 'very', 'different', 'parts', 'of', 'my', 'life', '.', 'I', 'think', 'everyone', 'just', 'thinks', 'because', 'we', \"'re\", 'tennis', 'players', 'we', 'should', 'be', 'the', 'greatest', 'of', 'friends', '.', '\\n\\n', 'But', 'ultimately', 'tennis', 'is', 'just', 'a', 'very', 'small', 'part', 'of', 'what', 'we', 'do', '.', 'There', 'are', 'so', 'many', 'other', 'things', 'that', 'we', \"'re\", 'interested', 'in', ',', 'that', 'we', 'do', '.']\n"
          ]
        }
      ]
    },
    {
      "cell_type": "code",
      "source": [
        "#punctuation = punctuation + '\\n'\n",
        "punctuation"
      ],
      "metadata": {
        "colab": {
          "base_uri": "https://localhost:8080/",
          "height": 34
        },
        "id": "tS-9pxQc9T6i",
        "outputId": "a8e1124e-c457-422b-c61c-86abc009b62a"
      },
      "execution_count": 6,
      "outputs": [
        {
          "output_type": "execute_result",
          "data": {
            "application/vnd.google.colaboratory.intrinsic+json": {
              "type": "string"
            },
            "text/plain": [
              "'!\"#$%&\\'()*+,-./:;<=>?@[\\\\]^_`{|}~'"
            ]
          },
          "metadata": {},
          "execution_count": 6
        }
      ]
    },
    {
      "cell_type": "code",
      "source": [
        ""
      ],
      "metadata": {
        "id": "z1FONaGn9UCi"
      },
      "execution_count": 6,
      "outputs": []
    },
    {
      "cell_type": "markdown",
      "source": [
        "2) Text Cleaning"
      ],
      "metadata": {
        "id": "suy-6nPw66yH"
      }
    },
    {
      "cell_type": "code",
      "source": [
        "word_freq ={}\n",
        "stop_words = list(STOP_WORDS)\n",
        "\n",
        "for word in doc:\n",
        "  if word.text.lower() not in stop_words:\n",
        "    if word.text.lower() not in punctuation:\n",
        "      if word.text not in word_freq.keys():\n",
        "        word_freq[word.text]= 1\n",
        "      else:\n",
        "        word_freq[word.text] += 1\n",
        "print(word_freq)"
      ],
      "metadata": {
        "colab": {
          "base_uri": "https://localhost:8080/"
        },
        "id": "p4eZpqGt7q8F",
        "outputId": "4777240a-8b9c-4025-a17d-5265fbdcd6db"
      },
      "execution_count": 7,
      "outputs": [
        {
          "output_type": "stream",
          "name": "stdout",
          "text": [
            "{'Maria': 1, 'Sharapova': 1, 'basically': 1, 'friends': 5, 'tennis': 6, 'players': 6, 'WTA': 1, 'Tour': 1, 'Russian': 1, 'player': 2, 'problems': 1, 'openly': 1, 'speaking': 1, 'recent': 1, 'interview': 1, 'said': 2, 'hide': 1, 'feelings': 1, '\\n\\n': 6, 'think': 4, 'knows': 1, 'job': 1, 'courts': 2, 'court': 1, 'playing': 1, 'competitor': 1, 'want': 1, 'beat': 1, 'single': 1, 'person': 2, 'locker': 1, 'room': 1, 'net': 1, 'strike': 1, 'conversation': 1, 'weather': 1, 'know': 1, 'minutes': 1, 'try': 1, 'win': 1, 'match': 1, 'pretty': 1, 'competitive': 1, 'girl': 1, 'hellos': 1, 'sending': 1, 'flowers': 1, 'Uhm': 1, 'friendly': 1, 'close': 2, 'lot': 2, 'away': 1, 'strategic': 1, 'different': 4, 'men': 1, 'tour': 2, 'women': 1, 'sport': 1, 'mean': 1, 'categorized': 1, 'going': 1, 'interests': 2, 'completely': 1, 'jobs': 1, 'met': 1, 'parts': 1, 'life': 1, 'thinks': 1, 'greatest': 1, 'ultimately': 1, 'small': 1, 'things': 1, 'interested': 1}\n"
          ]
        }
      ]
    },
    {
      "cell_type": "code",
      "source": [
        "max_freq = max(word_freq.values())"
      ],
      "metadata": {
        "id": "DMuiNU1cHOft"
      },
      "execution_count": 8,
      "outputs": []
    },
    {
      "cell_type": "code",
      "source": [
        "#normalization process for each va;ue in the dictionary\n",
        "for word in word_freq.keys():\n",
        "  word_freq[word] = word_freq[word] / max_freq"
      ],
      "metadata": {
        "id": "7H9ysBaZHOiQ"
      },
      "execution_count": 9,
      "outputs": []
    },
    {
      "cell_type": "code",
      "source": [
        "word_freq"
      ],
      "metadata": {
        "colab": {
          "base_uri": "https://localhost:8080/"
        },
        "id": "68IOH2F3HOkJ",
        "outputId": "ba70c21b-2b89-49b7-df2a-25cd7cc17dab"
      },
      "execution_count": 10,
      "outputs": [
        {
          "output_type": "execute_result",
          "data": {
            "text/plain": [
              "{'\\n\\n': 1.0,\n",
              " 'Maria': 0.16666666666666666,\n",
              " 'Russian': 0.16666666666666666,\n",
              " 'Sharapova': 0.16666666666666666,\n",
              " 'Tour': 0.16666666666666666,\n",
              " 'Uhm': 0.16666666666666666,\n",
              " 'WTA': 0.16666666666666666,\n",
              " 'away': 0.16666666666666666,\n",
              " 'basically': 0.16666666666666666,\n",
              " 'beat': 0.16666666666666666,\n",
              " 'categorized': 0.16666666666666666,\n",
              " 'close': 0.3333333333333333,\n",
              " 'competitive': 0.16666666666666666,\n",
              " 'competitor': 0.16666666666666666,\n",
              " 'completely': 0.16666666666666666,\n",
              " 'conversation': 0.16666666666666666,\n",
              " 'court': 0.16666666666666666,\n",
              " 'courts': 0.3333333333333333,\n",
              " 'different': 0.6666666666666666,\n",
              " 'feelings': 0.16666666666666666,\n",
              " 'flowers': 0.16666666666666666,\n",
              " 'friendly': 0.16666666666666666,\n",
              " 'friends': 0.8333333333333334,\n",
              " 'girl': 0.16666666666666666,\n",
              " 'going': 0.16666666666666666,\n",
              " 'greatest': 0.16666666666666666,\n",
              " 'hellos': 0.16666666666666666,\n",
              " 'hide': 0.16666666666666666,\n",
              " 'interested': 0.16666666666666666,\n",
              " 'interests': 0.3333333333333333,\n",
              " 'interview': 0.16666666666666666,\n",
              " 'job': 0.16666666666666666,\n",
              " 'jobs': 0.16666666666666666,\n",
              " 'know': 0.16666666666666666,\n",
              " 'knows': 0.16666666666666666,\n",
              " 'life': 0.16666666666666666,\n",
              " 'locker': 0.16666666666666666,\n",
              " 'lot': 0.3333333333333333,\n",
              " 'match': 0.16666666666666666,\n",
              " 'mean': 0.16666666666666666,\n",
              " 'men': 0.16666666666666666,\n",
              " 'met': 0.16666666666666666,\n",
              " 'minutes': 0.16666666666666666,\n",
              " 'net': 0.16666666666666666,\n",
              " 'openly': 0.16666666666666666,\n",
              " 'parts': 0.16666666666666666,\n",
              " 'person': 0.3333333333333333,\n",
              " 'player': 0.3333333333333333,\n",
              " 'players': 1.0,\n",
              " 'playing': 0.16666666666666666,\n",
              " 'pretty': 0.16666666666666666,\n",
              " 'problems': 0.16666666666666666,\n",
              " 'recent': 0.16666666666666666,\n",
              " 'room': 0.16666666666666666,\n",
              " 'said': 0.3333333333333333,\n",
              " 'sending': 0.16666666666666666,\n",
              " 'single': 0.16666666666666666,\n",
              " 'small': 0.16666666666666666,\n",
              " 'speaking': 0.16666666666666666,\n",
              " 'sport': 0.16666666666666666,\n",
              " 'strategic': 0.16666666666666666,\n",
              " 'strike': 0.16666666666666666,\n",
              " 'tennis': 1.0,\n",
              " 'things': 0.16666666666666666,\n",
              " 'think': 0.6666666666666666,\n",
              " 'thinks': 0.16666666666666666,\n",
              " 'tour': 0.3333333333333333,\n",
              " 'try': 0.16666666666666666,\n",
              " 'ultimately': 0.16666666666666666,\n",
              " 'want': 0.16666666666666666,\n",
              " 'weather': 0.16666666666666666,\n",
              " 'win': 0.16666666666666666,\n",
              " 'women': 0.16666666666666666}"
            ]
          },
          "metadata": {},
          "execution_count": 10
        }
      ]
    },
    {
      "cell_type": "markdown",
      "source": [
        "3) Sentence tokenization\n"
      ],
      "metadata": {
        "id": "ap5sLft0660o"
      }
    },
    {
      "cell_type": "code",
      "source": [
        "sent_tokens = [sent for sent in doc.sents]\n",
        "print(sent_tokens)"
      ],
      "metadata": {
        "id": "MW5v_xhbIiPq",
        "colab": {
          "base_uri": "https://localhost:8080/"
        },
        "outputId": "b818dfd6-df4e-4e57-d801-69250f22b178"
      },
      "execution_count": 11,
      "outputs": [
        {
          "output_type": "stream",
          "name": "stdout",
          "text": [
            "[Maria Sharapova has basically no friends as tennis players on the WTA Tour., The Russian player has no problems in openly speaking about it and, in a recent interview she said: 'I don't really hide any feelings too much.\n",
            "\n",
            ", I think everyone knows this is my job here., When I'm on the courts or when I'm on the court playing, I'm a competitor, and I want to beat every single person whether they're in the locker room or across the net.\n",
            "\n",
            ", So I'm not the one to strike up a conversation about the weather and know that in the next few minutes I have to go and try to win a tennis match., I'm a pretty competitive girl., I say my hellos, but I'm not sending any players flowers as well.\n",
            "\n",
            ", Uhm, I'm not really friendly or close to many players., I have not a lot of friends away from the courts.', When she said she is not really close to a lot of players, is that something strategic that she is doing?, Is it different on the men's tour than the women's tour? ', No, not at all.\n",
            "\n",
            ", I think just because you're in the same sport doesn't mean that you have to be friends with everyone just because you're categorized, you're a tennis player, so you're going to get along with tennis players.\n",
            "\n",
            ", I think every person has different interests., I have friends that have completely different jobs and interests, and I've met them in very different parts of my life., I think everyone just thinks because we're tennis players, we should be the greatest of friends.\n",
            "\n",
            ", But ultimately tennis is just a very small part of what we do., There are so many other things that we're interested in, that we do.]\n"
          ]
        }
      ]
    },
    {
      "cell_type": "code",
      "source": [
        ""
      ],
      "metadata": {
        "id": "PhLvVYQ_IiSP"
      },
      "execution_count": 11,
      "outputs": []
    },
    {
      "cell_type": "code",
      "source": [
        "sent_score = {}"
      ],
      "metadata": {
        "id": "Go1-0TaUIiTv"
      },
      "execution_count": 12,
      "outputs": []
    },
    {
      "cell_type": "code",
      "source": [
        "for sent in sent_tokens:\n",
        "  for word in sent:\n",
        "    if word.text.lower()in word_freq.keys():\n",
        "      if sent not in sent_score.keys():\n",
        "        sent_score[sent] =  word_freq[word.text.lower()]\n",
        "      else:\n",
        "        sent_score[sent] +=  word_freq[word.text.lower()]\n"
      ],
      "metadata": {
        "id": "_3NMt9lTIiVe"
      },
      "execution_count": 16,
      "outputs": []
    },
    {
      "cell_type": "code",
      "source": [
        "print(sent_score)"
      ],
      "metadata": {
        "id": "Z9YFn_zlIiY-",
        "colab": {
          "base_uri": "https://localhost:8080/"
        },
        "outputId": "85c26e59-962c-4f5f-d4ee-834aa8280792"
      },
      "execution_count": 17,
      "outputs": [
        {
          "output_type": "stream",
          "name": "stdout",
          "text": [
            "{Maria Sharapova has basically no friends as tennis players on the WTA Tour.: 3.3333333333333335, The Russian player has no problems in openly speaking about it and: 0.8333333333333333, in a recent interview she said: 'I don't really hide any feelings too much.\n",
            "\n",
            ": 2.0, I think everyone knows this is my job here.: 0.9999999999999999, When I'm on the courts or when I'm on the court playing, I'm a competitor: 0.8333333333333333, and I want to beat every single person whether they're in the locker room or across the net.\n",
            "\n",
            ": 2.333333333333333, So I'm not the one to strike up a conversation about the weather and know that in the next few minutes I have to go and try to win a tennis match.: 2.333333333333333, I'm a pretty competitive girl.: 0.5, I say my hellos, but I'm not sending any players flowers as well.\n",
            "\n",
            ": 2.5, Uhm, I'm not really friendly or close to many players.: 1.5, I have not a lot of friends away from the courts.': 1.6666666666666667, When she said she is not really close to a lot of players, is that something strategic that she is doing?: 2.1666666666666665, Is it different on the men's tour than the women's tour? ': 1.6666666666666665, No, not at all.\n",
            "\n",
            ": 1.0, I think just because you're in the same sport doesn't mean that you have to be friends with everyone just because you're categorized, you're a tennis player, so you're going to get along with tennis players.\n",
            "\n",
            ": 6.5, I think every person has different interests.: 1.9999999999999998, I have friends that have completely different jobs and interests, and I've met them in very different parts of my life.: 3.3333333333333326, I think everyone just thinks because we're tennis players: 2.833333333333333, we should be the greatest of friends.\n",
            "\n",
            ": 2.0, But ultimately tennis is just a very small part of what we do.: 1.3333333333333335, There are so many other things that we're interested in, that we do.: 0.3333333333333333}\n"
          ]
        }
      ]
    },
    {
      "cell_type": "markdown",
      "source": [
        "4)Select 30% sentences with max score\n"
      ],
      "metadata": {
        "id": "vxK3lhTO67KR"
      }
    },
    {
      "cell_type": "code",
      "source": [
        "from heapq import nlargest"
      ],
      "metadata": {
        "id": "LXXmnKNu7n1h"
      },
      "execution_count": 18,
      "outputs": []
    },
    {
      "cell_type": "code",
      "source": [
        "len(sent_score) * 0.3"
      ],
      "metadata": {
        "colab": {
          "base_uri": "https://localhost:8080/"
        },
        "id": "TmnH8QgbdLXW",
        "outputId": "ef24c120-e8c0-49b1-8c91-f21b8218e941"
      },
      "execution_count": 19,
      "outputs": [
        {
          "output_type": "execute_result",
          "data": {
            "text/plain": [
              "6.3"
            ]
          },
          "metadata": {},
          "execution_count": 19
        }
      ]
    },
    {
      "cell_type": "code",
      "source": [
        "8\n"
      ],
      "metadata": {
        "colab": {
          "base_uri": "https://localhost:8080/"
        },
        "id": "GhWcLvdGdLZq",
        "outputId": "97ae2916-aae0-468a-b0f9-ad8a88f37fa8"
      },
      "execution_count": 20,
      "outputs": [
        {
          "output_type": "execute_result",
          "data": {
            "text/plain": [
              "8"
            ]
          },
          "metadata": {},
          "execution_count": 20
        }
      ]
    },
    {
      "cell_type": "code",
      "source": [
        ""
      ],
      "metadata": {
        "id": "tNsb4D2zdZlR"
      },
      "execution_count": null,
      "outputs": []
    },
    {
      "cell_type": "markdown",
      "source": [
        "5 ) Getting the summary"
      ],
      "metadata": {
        "id": "EuV5e5Qcdc-F"
      }
    },
    {
      "cell_type": "code",
      "source": [
        "summary = nlargest(n = 8, iterable=sent_score,key=sent_score.get)"
      ],
      "metadata": {
        "id": "eINtn1O3dqrK"
      },
      "execution_count": 22,
      "outputs": []
    },
    {
      "cell_type": "code",
      "source": [
        "print(summary)"
      ],
      "metadata": {
        "colab": {
          "base_uri": "https://localhost:8080/"
        },
        "id": "Rj0HSe4_d0tz",
        "outputId": "334d18a1-2187-45be-b232-1c4a2153dcf2"
      },
      "execution_count": 24,
      "outputs": [
        {
          "output_type": "stream",
          "name": "stdout",
          "text": [
            "[I think just because you're in the same sport doesn't mean that you have to be friends with everyone just because you're categorized, you're a tennis player, so you're going to get along with tennis players.\n",
            "\n",
            ", Maria Sharapova has basically no friends as tennis players on the WTA Tour., I have friends that have completely different jobs and interests, and I've met them in very different parts of my life., I think everyone just thinks because we're tennis players, I say my hellos, but I'm not sending any players flowers as well.\n",
            "\n",
            ", and I want to beat every single person whether they're in the locker room or across the net.\n",
            "\n",
            ", So I'm not the one to strike up a conversation about the weather and know that in the next few minutes I have to go and try to win a tennis match., When she said she is not really close to a lot of players, is that something strategic that she is doing?]\n"
          ]
        }
      ]
    },
    {
      "cell_type": "code",
      "source": [
        "final_summary = [word.text for word in summary]"
      ],
      "metadata": {
        "id": "Vsrx0XYGd-9y"
      },
      "execution_count": 25,
      "outputs": []
    },
    {
      "cell_type": "code",
      "source": [
        "summary = \" \".join(final_summary)"
      ],
      "metadata": {
        "id": "mbZtdRljeNJz"
      },
      "execution_count": 28,
      "outputs": []
    },
    {
      "cell_type": "code",
      "source": [
        "print(summary)"
      ],
      "metadata": {
        "colab": {
          "base_uri": "https://localhost:8080/"
        },
        "id": "MrmAIAmbeUtE",
        "outputId": "7967350a-1663-4c0a-edf0-36336557c196"
      },
      "execution_count": 29,
      "outputs": [
        {
          "output_type": "stream",
          "name": "stdout",
          "text": [
            "I think just because you're in the same sport doesn't mean that you have to be friends with everyone just because you're categorized, you're a tennis player, so you're going to get along with tennis players.\n",
            "\n",
            " Maria Sharapova has basically no friends as tennis players on the WTA Tour. I have friends that have completely different jobs and interests, and I've met them in very different parts of my life. I think everyone just thinks because we're tennis players I say my hellos, but I'm not sending any players flowers as well.\n",
            "\n",
            " and I want to beat every single person whether they're in the locker room or across the net.\n",
            "\n",
            " So I'm not the one to strike up a conversation about the weather and know that in the next few minutes I have to go and try to win a tennis match. When she said she is not really close to a lot of players, is that something strategic that she is doing?\n"
          ]
        }
      ]
    },
    {
      "cell_type": "code",
      "source": [
        "len(summary)"
      ],
      "metadata": {
        "colab": {
          "base_uri": "https://localhost:8080/"
        },
        "id": "gPVPz7pwebgR",
        "outputId": "7e5ef0fe-01d9-4431-bbb7-5a4593f47f0e"
      },
      "execution_count": 30,
      "outputs": [
        {
          "output_type": "execute_result",
          "data": {
            "text/plain": [
              "879"
            ]
          },
          "metadata": {},
          "execution_count": 30
        }
      ]
    },
    {
      "cell_type": "code",
      "source": [
        "len(text)"
      ],
      "metadata": {
        "colab": {
          "base_uri": "https://localhost:8080/"
        },
        "id": "Kx6g-JCgepE_",
        "outputId": "fb0aff07-317e-4db6-c50f-820f17ae7b6f"
      },
      "execution_count": 31,
      "outputs": [
        {
          "output_type": "execute_result",
          "data": {
            "text/plain": [
              "1567"
            ]
          },
          "metadata": {},
          "execution_count": 31
        }
      ]
    },
    {
      "cell_type": "code",
      "source": [
        "len(summary)/len(text)"
      ],
      "metadata": {
        "colab": {
          "base_uri": "https://localhost:8080/"
        },
        "id": "X5_9P5-heq89",
        "outputId": "f2de1d5c-6286-48a9-959c-dd06c274b03f"
      },
      "execution_count": 32,
      "outputs": [
        {
          "output_type": "execute_result",
          "data": {
            "text/plain": [
              "0.5609444798978941"
            ]
          },
          "metadata": {},
          "execution_count": 32
        }
      ]
    },
    {
      "cell_type": "code",
      "source": [
        ""
      ],
      "metadata": {
        "id": "NcAVcl7Xev3l"
      },
      "execution_count": null,
      "outputs": []
    }
  ]
}